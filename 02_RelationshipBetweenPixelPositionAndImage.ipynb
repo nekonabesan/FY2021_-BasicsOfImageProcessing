{
 "cells": [
  {
   "cell_type": "markdown",
   "metadata": {},
   "source": [
    "# 課題2. 画素の位置と画像の関係\n",
    "- プログラムを実行し，ソースコードを読んで何をしているかを確認しなさい．\n",
    "- 配列のインデックスの数字（元のソースコード内では3と7)を様々に変えて，これらの数字と画像との対応がどのようになっているか確認しなさい．\n",
    "- !レポート!　出力された画像を使って，インデックスと画像との対応を分かりやすく説明しなさい"
   ]
  },
  {
   "cell_type": "code",
   "execution_count": 4,
   "metadata": {},
   "outputs": [
    {
     "name": "stdout",
     "output_type": "stream",
     "text": [
      "変換前の画像\n",
      "[[0. 0. 0. 0. 0. 0. 0. 0. 0. 0.]\n",
      " [0. 0. 0. 0. 0. 0. 0. 0. 0. 0.]\n",
      " [0. 0. 0. 0. 0. 0. 0. 0. 0. 0.]\n",
      " [0. 0. 0. 0. 0. 0. 0. 0. 0. 0.]\n",
      " [0. 0. 0. 0. 0. 0. 0. 0. 0. 0.]\n",
      " [0. 0. 0. 0. 0. 0. 0. 0. 0. 0.]\n",
      " [0. 0. 0. 0. 0. 0. 0. 0. 0. 0.]\n",
      " [0. 0. 0. 0. 0. 0. 0. 0. 0. 0.]\n",
      " [0. 0. 0. 0. 0. 0. 0. 0. 0. 0.]\n",
      " [0. 0. 0. 0. 0. 0. 0. 0. 0. 0.]]\n"
     ]
    },
    {
     "data": {
      "image/png": "[encoded data removed]",
      "text/plain": [
       "<Figure size 432x288 with 1 Axes>"
      ]
     },
     "metadata": {
      "needs_background": "light"
     },
     "output_type": "display_data"
    },
    {
     "name": "stdout",
     "output_type": "stream",
     "text": [
      "変換後の画像\n",
      "[[ 97. 118.   4.  76. 121. 172. 242. 198. 130. 140.]\n",
      " [125. 108.  36.  30. 183. 205.  47.  49.  21. 149.]\n",
      " [ 50. 236. 172. 134.  27. 165.  38.  62. 227.  48.]\n",
      " [ 56.  70. 192.  48. 204.  46.  36. 111. 189. 216.]\n",
      " [ 97. 191.   4. 114. 183. 230. 130.  20.  58. 232.]\n",
      " [ 74. 110. 201. 114.  96.  59.  99.  49.  35. 178.]\n",
      " [247.  29.  69. 153. 236. 132. 240. 209. 239.  73.]\n",
      " [240.  64. 226. 126. 148. 186.  59.  13.  97.   0.]\n",
      " [119.  33. 211. 200.  61.  55.  13. 108. 235. 111.]\n",
      " [ 26.  26. 135. 213. 193.  99. 193. 169.   6. 218.]]\n"
     ]
    },
    {
     "data": {
      "image/png": "[encoded data removed]",
      "text/plain": [
       "<Figure size 432x288 with 1 Axes>"
      ]
     },
     "metadata": {
      "needs_background": "light"
     },
     "output_type": "display_data"
    }
   ],
   "source": [
    "from pylab import *\n",
    "from cv2 import imread\n",
    "import random\n",
    "\n",
    "# 真っ黒の画像を生成\n",
    "gazo = zeros( (10,10) )\n",
    "grayscale = random.randrange(0, 255)\n",
    "\n",
    "# 画素値を表示\n",
    "print( \"変換前の画像\" )\n",
    "print( gazo )\n",
    "imshow(gazo, cmap=\"gray\", vmin=0, vmax=255)\n",
    "show()\n",
    "\n",
    "######### ここを変更 ############\n",
    "#gazo[3][7] = 255\n",
    "for x in range(10):\n",
    "    for y in range(10):\n",
    "        gazo[y][x] = grayscale\n",
    "        # パラメータgrayscaleを疑似乱数により書き換え0 < grayscale < 255の範囲で変化させる\n",
    "        grayscale = random.randrange(0, 255)\n",
    "#############################\n",
    "\n",
    "print( \"変換後の画像\" )\n",
    "print( gazo )\n",
    "imshow(gazo, cmap=\"gray\", vmin=0, vmax=255)\n",
    "show()"
   ]
  },
  {
   "cell_type": "markdown",
   "metadata": {},
   "source": [
    "## インデックスの数字と画像との対応について\n",
    "1. 多次元配列のインデクスに0 < x < 255の範囲で任意の値を設定する事で値とピクセルへ対応する色相が画像へ出力される\n",
    "2. 変更箇所では疑似乱数により0 < x <255の範囲で値を生成し任意の色相を表示させた"
   ]
  },
  {
   "cell_type": "code",
   "execution_count": null,
   "metadata": {},
   "outputs": [],
   "source": []
  }
 ],
 "metadata": {
  "kernelspec": {
   "display_name": "Python 3",
   "language": "python",
   "name": "python3"
  },
  "language_info": {
   "codemirror_mode": {
    "name": "ipython",
    "version": 3
   },
   "file_extension": ".py",
   "mimetype": "text/x-python",
   "name": "python",
   "nbconvert_exporter": "python",
   "pygments_lexer": "ipython3",
   "version": "3.7.6"
  }
 },
 "nbformat": 4,
 "nbformat_minor": 4
}
