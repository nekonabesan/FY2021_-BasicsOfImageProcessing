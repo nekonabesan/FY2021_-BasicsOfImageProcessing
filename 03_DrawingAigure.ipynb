{
 "cells": [
  {
   "cell_type": "markdown",
   "metadata": {},
   "source": [
    "# 課題3. 図形の描画\n",
    "- プログラムを実行し，ソースコードを読んで何をしているかを確認しなさい\n",
    "- ソースコード内の指定された箇所を変更して以下のような白い四角形が描かれた画像を生成しなさい．\n",
    "- !レポート!　作成したプログラムの動作を分かりやすく説明しなさい．"
   ]
  },
  {
   "cell_type": "code",
   "execution_count": 10,
   "metadata": {},
   "outputs": [
    {
     "name": "stdout",
     "output_type": "stream",
     "text": [
      "変換前の画像\n",
      "[[0. 0. 0. 0. 0. 0. 0. 0. 0. 0.]\n",
      " [0. 0. 0. 0. 0. 0. 0. 0. 0. 0.]\n",
      " [0. 0. 0. 0. 0. 0. 0. 0. 0. 0.]\n",
      " [0. 0. 0. 0. 0. 0. 0. 0. 0. 0.]\n",
      " [0. 0. 0. 0. 0. 0. 0. 0. 0. 0.]\n",
      " [0. 0. 0. 0. 0. 0. 0. 0. 0. 0.]\n",
      " [0. 0. 0. 0. 0. 0. 0. 0. 0. 0.]\n",
      " [0. 0. 0. 0. 0. 0. 0. 0. 0. 0.]\n",
      " [0. 0. 0. 0. 0. 0. 0. 0. 0. 0.]\n",
      " [0. 0. 0. 0. 0. 0. 0. 0. 0. 0.]]\n"
     ]
    },
    {
     "data": {
      "image/png": "[encoded data removed]",
      "text/plain": [
       "<Figure size 432x288 with 1 Axes>"
      ]
     },
     "metadata": {
      "needs_background": "light"
     },
     "output_type": "display_data"
    },
    {
     "name": "stdout",
     "output_type": "stream",
     "text": [
      "変換後の画像\n",
      "[[  0.   0.   0.   0.   0.   0.   0.   0.   0.   0.]\n",
      " [  0. 255. 255. 255. 255. 255. 255. 255. 255.   0.]\n",
      " [  0. 255. 255. 255. 255. 255. 255. 255. 255.   0.]\n",
      " [  0. 255. 255. 255. 255. 255. 255. 255. 255.   0.]\n",
      " [  0. 255. 255. 255. 255. 255. 255. 255. 255.   0.]\n",
      " [  0. 255. 255. 255. 255. 255. 255. 255. 255.   0.]\n",
      " [  0. 255. 255. 255. 255. 255. 255. 255. 255.   0.]\n",
      " [  0. 255. 255. 255. 255. 255. 255. 255. 255.   0.]\n",
      " [  0. 255. 255. 255. 255. 255. 255. 255. 255.   0.]\n",
      " [  0.   0.   0.   0.   0.   0.   0.   0.   0.   0.]]\n"
     ]
    },
    {
     "data": {
      "image/png": "[encoded data removed]",
      "text/plain": [
       "<Figure size 432x288 with 1 Axes>"
      ]
     },
     "metadata": {
      "needs_background": "light"
     },
     "output_type": "display_data"
    }
   ],
   "source": [
    "from pylab import *\n",
    "from cv2 import imread\n",
    "\n",
    "# 真っ黒の画像を生成\n",
    "gazo = zeros( (10,10) )\n",
    "\n",
    "# 画素値を表示\n",
    "print( \"変換前の画像\" )\n",
    "print( gazo )\n",
    "imshow(gazo, cmap=\"gray\", vmin=0, vmax=255)\n",
    "show()\n",
    "\n",
    "# 画像を変換\n",
    "for x in range(10):\n",
    "    for y in range(10):\n",
    "        ######### ここを変更 ############\n",
    "        if (x!=0 and x != 9) and (y!=0 and y != 9):\n",
    "            gazo[y][x] = 255\n",
    "        #############################\n",
    "\n",
    "print( \"変換後の画像\" )\n",
    "print( gazo )\n",
    "\n",
    "# 画像を表示\n",
    "imshow(gazo, cmap=\"gray\", vmin=0, vmax=255, interpolation=\"None\")\n",
    "show()"
   ]
  },
  {
   "cell_type": "markdown",
   "metadata": {},
   "source": [
    "# 作成したプログラムの動作\n",
    "インデクスi,jが画像の端ではない場合インデクスと対応する多次元配列の値を255(白)へ書き換える\n",
    "$$\n",
    "\\displaystyle\\Sigma_{x = 0}^{10}\\Sigma_{y = 0}^{10} gazo[y][x] = 255\n",
    "$$\n"
   ]
  },
  {
   "cell_type": "code",
   "execution_count": null,
   "metadata": {},
   "outputs": [],
   "source": []
  }
 ],
 "metadata": {
  "kernelspec": {
   "display_name": "Python 3",
   "language": "python",
   "name": "python3"
  },
  "language_info": {
   "codemirror_mode": {
    "name": "ipython",
    "version": 3
   },
   "file_extension": ".py",
   "mimetype": "text/x-python",
   "name": "python",
   "nbconvert_exporter": "python",
   "pygments_lexer": "ipython3",
   "version": "3.8.8"
  }
 },
 "nbformat": 4,
 "nbformat_minor": 4
}
