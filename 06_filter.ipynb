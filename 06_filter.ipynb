{
 "cells": [
  {
   "cell_type": "markdown",
   "metadata": {},
   "source": [
    "# 課題6. フィルタ\n",
    "\n",
    "- ソースコードを実行し，ソースコードを読んで何をしているかを確認しなさい．\n",
    "- プログラムを変更しフィルタの値を変え，移動平均フィルタ，ラプラシアンフィルタを実装しなさい．\n",
    "- !レポート!　原理（数式・ソースコード）と実行結果（printされる画素値）を照らし合わせて，それらフィルタの処理を分かりやすく説明しなさい"
   ]
  },
  {
   "cell_type": "code",
   "execution_count": 18,
   "metadata": {},
   "outputs": [
    {
     "name": "stdout",
     "output_type": "stream",
     "text": [
      "元画像\n",
      "[[  0   0   0   0   0   0   0   0   0   0   0   0]\n",
      " [  0   0   0   0   0   0   0   0   0   0   0   0]\n",
      " [  0   0   0   0   0   0   0   0   0   0   0   0]\n",
      " [  0   0 255 255 255 255 255 255 255 255   0   0]\n",
      " [  0   0 255 255 255 255 255 255 255 255   0   0]\n",
      " [  0   0 255 255 255 255 255 255 255 255   0   0]\n",
      " [  0   0 255 255 255 255 255 255 255 255   0   0]\n",
      " [  0   0 255 255 255 255 255 255 255 255   0   0]\n",
      " [  0   0 255 255 255 255 255 255 255 255   0   0]\n",
      " [  0   0   0   0   0   0   0   0   0   0   0   0]\n",
      " [  0   0   0   0   0   0   0   0   0   0   0   0]\n",
      " [  0   0   0   0   0   0   0   0   0   0   0   0]]\n"
     ]
    },
    {
     "data": {
      "image/png": "[encoded data removed]",
      "text/plain": [
       "<Figure size 432x288 with 1 Axes>"
      ]
     },
     "metadata": {
      "needs_background": "light"
     },
     "output_type": "display_data"
    },
    {
     "name": "stdout",
     "output_type": "stream",
     "text": [
      "変換後の画像\n",
      "[[  0.   0.   0.   0.   0.   0.   0.   0.   0.   0.   0.   0.]\n",
      " [  0.   0.   0.   0.   0.   0.   0.   0.   0.   0.   0.   0.]\n",
      " [  0.  51. 102. 153. 153. 153. 153. 153. 153. 102.  51.   0.]\n",
      " [  0. 102. 255. 255. 255. 255. 255. 255. 255. 255. 102.   0.]\n",
      " [  0. 153. 255. 255. 255. 255. 255. 255. 255. 255. 153.   0.]\n",
      " [  0. 153. 255. 255. 255. 255. 255. 255. 255. 255. 153.   0.]\n",
      " [  0. 153. 255. 255. 255. 255. 255. 255. 255. 255. 153.   0.]\n",
      " [  0. 153. 255. 255. 255. 255. 255. 255. 255. 255. 153.   0.]\n",
      " [  0. 102. 255. 255. 255. 255. 255. 255. 255. 255. 102.   0.]\n",
      " [  0.  51. 102. 153. 153. 153. 153. 153. 153. 102.  51.   0.]\n",
      " [  0.   0.   0.   0.   0.   0.   0.   0.   0.   0.   0.   0.]\n",
      " [  0.   0.   0.   0.   0.   0.   0.   0.   0.   0.   0.   0.]]\n"
     ]
    },
    {
     "data": {
      "image/png": "[encoded data removed]",
      "text/plain": [
       "<Figure size 432x288 with 1 Axes>"
      ]
     },
     "metadata": {
      "needs_background": "light"
     },
     "output_type": "display_data"
    },
    {
     "name": "stdout",
     "output_type": "stream",
     "text": [
      "変換後の画像\n",
      "[[  0.   0.   0.   0.   0.   0.   0.   0.   0.   0.   0.   0.]\n",
      " [  0.   0.   0.   0.   0.   0.   0.   0.   0.   0.   0.   0.]\n",
      " [  0. 255. 255. 255. 255. 255. 255. 255. 255. 255. 255.   0.]\n",
      " [  0. 255.   0.   0.   0.   0.   0.   0.   0.   0. 255.   0.]\n",
      " [  0. 255.   0.   0.   0.   0.   0.   0.   0.   0. 255.   0.]\n",
      " [  0. 255.   0.   0.   0.   0.   0.   0.   0.   0. 255.   0.]\n",
      " [  0. 255.   0.   0.   0.   0.   0.   0.   0.   0. 255.   0.]\n",
      " [  0. 255.   0.   0.   0.   0.   0.   0.   0.   0. 255.   0.]\n",
      " [  0. 255.   0.   0.   0.   0.   0.   0.   0.   0. 255.   0.]\n",
      " [  0. 255. 255. 255. 255. 255. 255. 255. 255. 255. 255.   0.]\n",
      " [  0.   0.   0.   0.   0.   0.   0.   0.   0.   0.   0.   0.]\n",
      " [  0.   0.   0.   0.   0.   0.   0.   0.   0.   0.   0.   0.]]\n"
     ]
    },
    {
     "data": {
      "image/png": "[encoded data removed]",
      "text/plain": [
       "<Figure size 432x288 with 1 Axes>"
      ]
     },
     "metadata": {
      "needs_background": "light"
     },
     "output_type": "display_data"
    }
   ],
   "source": [
    "## 移動平均フィルタ\n",
    "from pylab import *\n",
    "from cv2 import imread\n",
    "\n",
    "# 画像をダウンロード&読み込み\n",
    "#!wget -q https://raw.githubusercontent.com/naka-tomo/image_proc_exp/master/kadai/kadai4.bmp\n",
    "gazo = imread( \"kadai4.bmp\", 0 )\n",
    "\n",
    "print( \"元画像\" )\n",
    "print( gazo )\n",
    "imshow(gazo, cmap=\"gray\", vmin=0, vmax=255, interpolation=\"None\")\n",
    "show()\n",
    "\n",
    "\n",
    "gazo2 = zeros((12,12))\n",
    "gazo3 = zeros((12,12))\n",
    "\n",
    "#--------------------------------------------------------------------#\n",
    "# 移動平均フィルタで画像を変換\n",
    "#--------------------------------------------------------------------#\n",
    "for x in range(1,11):\n",
    "  for y in range(1,11):\n",
    "    ######### ここを変更 ############\n",
    "    filter = [\n",
    "      [0.2, 0.2, 0.2],\n",
    "      [0.2, 1.0, 0.2],\n",
    "      [0.2, 0.2, 0.2]\n",
    "    ]\n",
    "    #############################\n",
    "\n",
    "    gasochi = 0\n",
    "    for xx in range(3):\n",
    "      for yy in range(3):\n",
    "        # ここでfilterの値をgazoに掛ける\n",
    "        gasochi += gazo[y+yy-1][x+xx-1] * filter[yy][xx]\n",
    "\n",
    "    # 0〜255の範囲内に収める \n",
    "    gasochi = int(gasochi) \n",
    "    if gasochi<0:\n",
    "      gasochi = 0\n",
    "    elif gasochi>255:\n",
    "      gasochi = 255\n",
    "    gazo2[y][x] = gasochi\n",
    "\n",
    "print( \"移動平均フィルタによる変換後の画像\" )\n",
    "print( gazo2 )\n",
    "imshow(gazo2, cmap=\"gray\", vmin=0, vmax=255, interpolation=\"None\")\n",
    "show()\n",
    "\n",
    "#--------------------------------------------------------------------#\n",
    "# ラプラシアンフィルタで画像を変換\n",
    "#--------------------------------------------------------------------#\n",
    "for x in range(1,11):\n",
    "  for y in range(1,11):\n",
    "    ######### ここを変更 ############\n",
    "    filter = [\n",
    "      [1.0, 1.0, 1.0],\n",
    "      [1.0, -8.0, 1.0],\n",
    "      [1.0, 1.0, 1.0]\n",
    "    ]\n",
    "    #############################\n",
    "\n",
    "    gasochi = 0\n",
    "    for xx in range(3):\n",
    "      for yy in range(3):\n",
    "        # ここでfilterの値をgazoに掛ける\n",
    "        gasochi += gazo[y+yy-1][x+xx-1] * filter[yy][xx]\n",
    "\n",
    "    # 0〜255の範囲内に収める \n",
    "    gasochi = int(gasochi) \n",
    "    if gasochi<0:\n",
    "      gasochi = 0\n",
    "    elif gasochi>255:\n",
    "      gasochi = 255\n",
    "    gazo3[y][x] = gasochi\n",
    "\n",
    "print( \"ラプラシアンフィルタによる変換後の画像\" )\n",
    "print( gazo3 )\n",
    "imshow(gazo3, cmap=\"gray\", vmin=0, vmax=255, interpolation=\"None\")\n",
    "show()"
   ]
  },
  {
   "cell_type": "markdown",
   "metadata": {},
   "source": [
    "## フィルタの動作\n",
    "### テーブルの抜粋\n",
    "|y＼x|0|1|2|3|4|5|\n",
    "| :--- | :---: | :---: | :---: | :---: | :---: | :---: |\n",
    "|0|0|0|0|0|0|0|\n",
    "|1|0|0|0|0|0|0|\n",
    "|2|0|0|0|0|0|0|\n",
    "|3|0|0|255|255|255|255|\n",
    "|4|0|0|255|255|255|255|\n",
    "|5|0|0|255|255|255|255|\n",
    "\n",
    "### 移動平均フィルタの計算処理\n",
    "移動平均フィルタの計算過程を以下に示す.\n",
    "1. (x, y) = (1, 2)における値の導出\n",
    "$$\n",
    "(0.2 \\times 0) + (0.2 \\times 0) + (0.2 \\times 0) + (0.2 \\times 0) + (1.0 \\times 0) + (0.2 \\times 0) + (0.2 \\times 0) + (0.2 \\times 0) + (0.2 \\times 255) = 51\n",
    "$$\n",
    "2. (x, y) = (1, 3)における値の導出\n",
    "$$\n",
    "(0.2 \\times 0) + (0.2 \\times 0) + (0.2 \\times 0) + (0.2 \\times 0) + (1.0 \\times 0) + (0.2 \\times 255) + (0.2 \\times 0) + (0.2 \\times 0) + (0.2 \\times 255) = 102\n",
    "$$\n",
    "2. (x, y) = (1, 4)における値の導出\n",
    "$$\n",
    "(0.2 \\times 0) + (0.2 \\times 0) + (0.2 \\times 255) + (0.2 \\times 0) + (1.0 \\times 0) + (0.2 \\times 255) + (0.2 \\times 0) + (0.2 \\times 0) + (0.2 \\times 255) = 153\n",
    "$$\n",
    "\n",
    "### ラプラシアンフィルタの計算処理\n",
    "ラプラシアンフィルタの計算過程を以下に示す.\n",
    "1. (x, y) = (1, 1)における値の導出\n",
    "$$\n",
    "(1.0 \\times 0) + (1.0 \\times 0) + (1.0 \\times 0) + (1.0 \\times 0) + (1.0 \\times 0) + (-8.0 \\times 0) + (1.0 \\times 0) + (1.0 \\times 0) + (1.0 \\times 0) = 0\n",
    "$$\n",
    "\n",
    "2. (x, y) = (1, 2)における値の導出\n",
    "$$\n",
    "(1.0 \\times 0) + (1.0 \\times 0) + (1.0 \\times 0) + (1.0 \\times 0) + (1.0 \\times 0) + (-8.0 \\times 0) + (1.0 \\times 0) + (1.0 \\times 0) + (1.0 \\times 255) = 255\n",
    "$$\n",
    "\n",
    "3. (x, y) = (1, 1)における値の導出\n",
    "$$\n",
    "(1.0 \\times 0) + (1.0 \\times 0) + (1.0 \\times 0) + (1.0 \\times 0) + (1.0 \\times 0) + (-8.0 \\times 255) + (1.0 \\times 255) + (1.0 \\times 255) + (1.0 \\times 255) \n",
    "= 0 + 0 + 0 + 0 - 2040 + 255 + 255 + 0  + 255 + 255 = -1275 \\\\\n",
    "\\ast 但し下限値を超過しているので配列には0が代入される.\n",
    "$$\n",
    "\n"
   ]
  }
 ],
 "metadata": {
  "kernelspec": {
   "display_name": "Python 3",
   "language": "python",
   "name": "python3"
  },
  "language_info": {
   "codemirror_mode": {
    "name": "ipython",
    "version": 3
   },
   "file_extension": ".py",
   "mimetype": "text/x-python",
   "name": "python",
   "nbconvert_exporter": "python",
   "pygments_lexer": "ipython3",
   "version": "3.7.6"
  }
 },
 "nbformat": 4,
 "nbformat_minor": 4
}
