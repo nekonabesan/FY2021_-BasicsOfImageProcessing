{
 "cells": [
  {
   "cell_type": "markdown",
   "metadata": {},
   "source": [
    "# 実験課題の進め方\n",
    "\n",
    "- 課題の指示に従い，プログラムを書き換え，実行してください．\n",
    "- 各課題で作成したプログラム，生成される画像やprint関数によって表示された文字列は必ず保存し，必要に応じてレポートに記載してください．\n",
    "- レポートでは理論（数式やプログラム）と生成される画像の関係をわかりやすく説明するとともに考察を記載してください．\n",
    "- レポートへの記載事項は，各課題の説明中の!レポート!を確認してください．"
   ]
  },
  {
   "cell_type": "markdown",
   "metadata": {},
   "source": [
    "# 実験課題\n",
    "## 課題1. 画素値と画像の関係\n",
    "\n",
    "1. プログラムを実行し，ソースコードを読んで何をしているかを確認しなさい．\n",
    "2. 代入する値（元のソースコード内では255）を様々に変化させて色の変化を確認しなさい．\n",
    "3. !レポート!　代入する値と生成される画像との対応を説明しなさい．"
   ]
  },
  {
   "cell_type": "code",
   "execution_count": 17,
   "metadata": {},
   "outputs": [
    {
     "name": "stdout",
     "output_type": "stream",
     "text": [
      "変換前の画像\n",
      "[[0. 0. 0. 0. 0. 0. 0. 0. 0. 0. 0.]\n",
      " [0. 0. 0. 0. 0. 0. 0. 0. 0. 0. 0.]\n",
      " [0. 0. 0. 0. 0. 0. 0. 0. 0. 0. 0.]\n",
      " [0. 0. 0. 0. 0. 0. 0. 0. 0. 0. 0.]\n",
      " [0. 0. 0. 0. 0. 0. 0. 0. 0. 0. 0.]\n",
      " [0. 0. 0. 0. 0. 0. 0. 0. 0. 0. 0.]\n",
      " [0. 0. 0. 0. 0. 0. 0. 0. 0. 0. 0.]\n",
      " [0. 0. 0. 0. 0. 0. 0. 0. 0. 0. 0.]\n",
      " [0. 0. 0. 0. 0. 0. 0. 0. 0. 0. 0.]\n",
      " [0. 0. 0. 0. 0. 0. 0. 0. 0. 0. 0.]\n",
      " [0. 0. 0. 0. 0. 0. 0. 0. 0. 0. 0.]]\n"
     ]
    },
    {
     "data": {
      "image/png": "[encoded data removed]",
      "text/plain": [
       "<Figure size 432x288 with 1 Axes>"
      ]
     },
     "metadata": {
      "needs_background": "light"
     },
     "output_type": "display_data"
    },
    {
     "name": "stdout",
     "output_type": "stream",
     "text": [
      "変換後の画像\n",
      "[[  0.   25.5  51.   76.5 102.  127.5 153.  178.5 204.  229.5 255. ]\n",
      " [  0.   25.5  51.   76.5 102.  127.5 153.  178.5 204.  229.5 255. ]\n",
      " [  0.   25.5  51.   76.5 102.  127.5 153.  178.5 204.  229.5 255. ]\n",
      " [  0.   25.5  51.   76.5 102.  127.5 153.  178.5 204.  229.5 255. ]\n",
      " [  0.   25.5  51.   76.5 102.  127.5 153.  178.5 204.  229.5 255. ]\n",
      " [  0.   25.5  51.   76.5 102.  127.5 153.  178.5 204.  229.5 255. ]\n",
      " [  0.   25.5  51.   76.5 102.  127.5 153.  178.5 204.  229.5 255. ]\n",
      " [  0.   25.5  51.   76.5 102.  127.5 153.  178.5 204.  229.5 255. ]\n",
      " [  0.   25.5  51.   76.5 102.  127.5 153.  178.5 204.  229.5 255. ]\n",
      " [  0.   25.5  51.   76.5 102.  127.5 153.  178.5 204.  229.5 255. ]\n",
      " [  0.   25.5  51.   76.5 102.  127.5 153.  178.5 204.  229.5 255. ]]\n"
     ]
    },
    {
     "data": {
      "image/png": "[encoded data removed]",
      "text/plain": [
       "<Figure size 432x288 with 1 Axes>"
      ]
     },
     "metadata": {
      "needs_background": "light"
     },
     "output_type": "display_data"
    }
   ],
   "source": [
    "from pylab import *\n",
    "from cv2 import imread\n",
    "\n",
    "# 真っ黒の画像を生成\n",
    "gazo = zeros( (11,11) )\n",
    "# パラメータgrayscalを初期化する\n",
    "grayscale = 0\n",
    "\n",
    "# 画素値を表示\n",
    "print( \"変換前の画像\" )\n",
    "print( gazo )\n",
    "imshow(gazo, cmap=\"gray\", vmin=0, vmax=255)\n",
    "show()\n",
    "\n",
    "# 画像を変換\n",
    "for x in range(11):\n",
    "    for y in range(11):\n",
    "        ######### ここを変更 ############\n",
    "        gazo[y][x] = grayscale\n",
    "        #############################\n",
    "    # パラメータgrayscaleをインクリメントする\n",
    "    grayscale += 25.5\n",
    "\n",
    "print( \"変換後の画像\" )\n",
    "print( gazo )\n",
    "imshow(gazo, cmap=\"gray\", vmin=0, vmax=255)\n",
    "show()"
   ]
  },
  {
   "cell_type": "markdown",
   "metadata": {},
   "source": [
    "# 代入する値と生成される画像との対応について\n",
    "0 < gazo[y][x] < 255 の範囲でパラメータに代入される値を変化させることで出力される画像のグレースケールを列ごとに変化させる"
   ]
  },
  {
   "cell_type": "code",
   "execution_count": null,
   "metadata": {},
   "outputs": [],
   "source": []
  }
 ],
 "metadata": {
  "kernelspec": {
   "display_name": "Python 3",
   "language": "python",
   "name": "python3"
  },
  "language_info": {
   "codemirror_mode": {
    "name": "ipython",
    "version": 3
   },
   "file_extension": ".py",
   "mimetype": "text/x-python",
   "name": "python",
   "nbconvert_exporter": "python",
   "pygments_lexer": "ipython3",
   "version": "3.8.8"
  }
 },
 "nbformat": 4,
 "nbformat_minor": 4
}
